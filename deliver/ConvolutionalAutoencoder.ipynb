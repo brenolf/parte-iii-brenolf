{
 "cells": [
  {
   "cell_type": "markdown",
   "metadata": {},
   "source": [
    "## Convolutional Autoencoder\n",
    "\n",
    "fonte: https://blog.keras.io/building-autoencoders-in-keras.html\n",
    "\n",
    "Este notebook apresenta autocodificadores convolucionais. Utiliza as amostras do MNIST para ilustrar o autocodificador."
   ]
  },
  {
   "cell_type": "code",
   "execution_count": 1,
   "metadata": {
    "collapsed": true
   },
   "outputs": [],
   "source": [
    "import os\n",
    "os.environ['KERAS_BACKEND'] = 'theano'\n",
    "os.environ['THEANO_FLAGS'] = 'mode=FAST_RUN,device=gpu0,floatX=float32'\n",
    "# os.environ['THEANO_FLAGS'] = 'mode=FAST_RUN,device=cpu,floatX=float32'"
   ]
  },
  {
   "cell_type": "code",
   "execution_count": 2,
   "metadata": {
    "collapsed": false
   },
   "outputs": [
    {
     "name": "stderr",
     "output_type": "stream",
     "text": [
      "Using Theano backend.\n",
      "Using gpu device 0: GRID K520 (CNMeM is disabled, cuDNN 5110)\n",
      "/opt/conda/lib/python2.7/site-packages/theano/sandbox/cuda/__init__.py:600: UserWarning: Your cuDNN version is more recent than the one Theano officially supports. If you see any problems, try updating Theano or downgrading cuDNN to version 5.\n",
      "  warnings.warn(warn)\n"
     ]
    }
   ],
   "source": [
    "%matplotlib inline\n",
    "import matplotlib.pyplot as plot\n",
    "\n",
    "import sys\n",
    "import numpy as np\n",
    "from keras.layers import Input, Dense, Convolution2D, MaxPooling2D, UpSampling2D\n",
    "from keras.models import Model\n",
    "from keras.datasets import mnist\n",
    "\n",
    "sys.path.append('../src/')\n",
    "from my_keras_utilities import (load_model_and_history, \n",
    "                                save_model_and_history, \n",
    "                                TrainingPlotter)"
   ]
  },
  {
   "cell_type": "code",
   "execution_count": 3,
   "metadata": {
    "collapsed": true
   },
   "outputs": [],
   "source": [
    "(x_train, _), (x_test, _) = mnist.load_data()\n",
    "\n",
    "x_train = x_train.astype('float32') / 255.\n",
    "x_test = x_test.astype('float32') / 255.\n",
    "x_train = np.reshape(x_train, (len(x_train), 1, 28, 28))\n",
    "x_test = np.reshape(x_test, (len(x_test), 1, 28, 28))"
   ]
  },
  {
   "cell_type": "code",
   "execution_count": null,
   "metadata": {
    "collapsed": false
   },
   "outputs": [
    {
     "name": "stdout",
     "output_type": "stream",
     "text": [
      "Layers:\n",
      "   0: InputLayer      input_1\n",
      "   1: Convolution2D   convolution2d_1\n",
      "   2: MaxPooling2D    maxpooling2d_1\n",
      "   3: Convolution2D   convolution2d_2\n",
      "   4: MaxPooling2D    maxpooling2d_2\n",
      "   5: Convolution2D   convolution2d_3\n",
      "   6: MaxPooling2D    maxpooling2d_3\n",
      "   7: Convolution2D   convolution2d_4\n",
      "   8: UpSampling2D    upsampling2d_1\n",
      "   9: Convolution2D   convolution2d_5\n",
      "  10: UpSampling2D    upsampling2d_2\n",
      "  11: Convolution2D   convolution2d_6\n",
      "  12: UpSampling2D    upsampling2d_3\n",
      "  13: Convolution2D   convolution2d_7\n",
      "\n",
      "____________________________________________________________________________________________________\n",
      "Layer (type)                     Output Shape          Param #     Connected to                     \n",
      "====================================================================================================\n",
      "input_1 (InputLayer)             (None, 1, 28, 28)     0                                            \n",
      "____________________________________________________________________________________________________\n",
      "convolution2d_1 (Convolution2D)  (None, 16, 28, 28)    160         input_1[0][0]                    \n",
      "____________________________________________________________________________________________________\n",
      "maxpooling2d_1 (MaxPooling2D)    (None, 16, 14, 14)    0           convolution2d_1[0][0]            \n",
      "____________________________________________________________________________________________________\n",
      "convolution2d_2 (Convolution2D)  (None, 8, 14, 14)     1160        maxpooling2d_1[0][0]             \n",
      "____________________________________________________________________________________________________\n",
      "maxpooling2d_2 (MaxPooling2D)    (None, 8, 7, 7)       0           convolution2d_2[0][0]            \n",
      "____________________________________________________________________________________________________\n",
      "convolution2d_3 (Convolution2D)  (None, 8, 7, 7)       584         maxpooling2d_2[0][0]             \n",
      "____________________________________________________________________________________________________\n",
      "maxpooling2d_3 (MaxPooling2D)    (None, 8, 4, 4)       0           convolution2d_3[0][0]            \n",
      "____________________________________________________________________________________________________\n",
      "convolution2d_4 (Convolution2D)  (None, 8, 4, 4)       584         maxpooling2d_3[0][0]             \n",
      "____________________________________________________________________________________________________\n",
      "upsampling2d_1 (UpSampling2D)    (None, 8, 8, 8)       0           convolution2d_4[0][0]            \n",
      "____________________________________________________________________________________________________\n",
      "convolution2d_5 (Convolution2D)  (None, 8, 8, 8)       584         upsampling2d_1[0][0]             \n",
      "____________________________________________________________________________________________________\n",
      "upsampling2d_2 (UpSampling2D)    (None, 8, 16, 16)     0           convolution2d_5[0][0]            \n",
      "____________________________________________________________________________________________________\n",
      "convolution2d_6 (Convolution2D)  (None, 16, 14, 14)    1168        upsampling2d_2[0][0]             \n",
      "____________________________________________________________________________________________________\n",
      "upsampling2d_3 (UpSampling2D)    (None, 16, 28, 28)    0           convolution2d_6[0][0]            \n",
      "____________________________________________________________________________________________________\n",
      "convolution2d_7 (Convolution2D)  (None, 1, 28, 28)     145         upsampling2d_3[0][0]             \n",
      "====================================================================================================\n",
      "Total params: 4,385\n",
      "Trainable params: 4,385\n",
      "Non-trainable params: 0\n",
      "____________________________________________________________________________________________________\n"
     ]
    }
   ],
   "source": [
    "model_name = 'autoencoder_conv_1'\n",
    "\n",
    "if not os.path.isfile(model_name + '.model'):\n",
    "    input_img = Input(shape=(1, 28, 28))\n",
    "\n",
    "    x = Convolution2D(16, 3, 3, activation='relu', border_mode='same')(input_img)\n",
    "    x = MaxPooling2D((2, 2), border_mode='same')(x)\n",
    "    x = Convolution2D(8, 3, 3, activation='relu', border_mode='same')(x)\n",
    "    x = MaxPooling2D((2, 2), border_mode='same')(x)\n",
    "    x = Convolution2D(8, 3, 3, activation='relu', border_mode='same')(x)\n",
    "    encoded = MaxPooling2D((2, 2), border_mode='same')(x)\n",
    "\n",
    "    # at this point the representation is (8, 4, 4) i.e. 128-dimensional\n",
    "\n",
    "    x = Convolution2D(8, 3, 3, activation='relu', border_mode='same')(encoded)\n",
    "    x = UpSampling2D((2, 2))(x)\n",
    "    x = Convolution2D(8, 3, 3, activation='relu', border_mode='same')(x)\n",
    "    x = UpSampling2D((2, 2))(x)\n",
    "    x = Convolution2D(16, 3, 3, activation='relu')(x)\n",
    "    x = UpSampling2D((2, 2))(x)\n",
    "    decoded = Convolution2D(1, 3, 3, activation='sigmoid', border_mode='same')(x)\n",
    "\n",
    "    autoencoder = Model(input_img, decoded)\n",
    "    autoencoder.compile(optimizer='adadelta', loss='binary_crossentropy')\n",
    "    histo = TrainingPlotter(n=1, filepath=model_name, patience=10)\n",
    "\n",
    "else:\n",
    "    autoencoder, histo = load_model_and_history(model_name)\n",
    "\n",
    "print 'Layers:'\n",
    "for i, layer in enumerate(autoencoder.layers):\n",
    "    print '  {:2d}: {:15s} {}'.format(i, layer.__class__.__name__, layer.name)\n",
    "print\n",
    "autoencoder.summary()"
   ]
  },
  {
   "cell_type": "code",
   "execution_count": null,
   "metadata": {
    "collapsed": false
   },
   "outputs": [
    {
     "data": {
      "image/png": "[encoded data removed]",
      "text/plain": [
       "<matplotlib.figure.Figure at 0x7f461f0ce410>"
      ]
     },
     "metadata": {},
     "output_type": "display_data"
    }
   ],
   "source": [
    "nb_epochs = 50\n",
    "tr_epochs = histo.get_nepochs()\n",
    "\n",
    "fig = plot.figure(figsize=(15,6))\n",
    "plot.ylim(0.0, 0.2)\n",
    "plot.xlim(0, nb_epochs)\n",
    "plot.grid(True)\n",
    "\n",
    "try:\n",
    "    autoencoder.fit(x_train, x_train,\n",
    "                    nb_epoch=nb_epochs - tr_epochs,\n",
    "                    batch_size=128,\n",
    "                    shuffle=True,\n",
    "                    verbose=0,\n",
    "                    validation_data=(x_test, x_test),\n",
    "                    callbacks=[histo])\n",
    "    \n",
    "except KeyboardInterrupt:\n",
    "    pass"
   ]
  },
  {
   "cell_type": "code",
   "execution_count": null,
   "metadata": {
    "collapsed": false
   },
   "outputs": [],
   "source": [
    "decoded_imgs = autoencoder.predict(x_test)\n",
    "\n",
    "n = 10\n",
    "plot.figure(figsize=(20, 4))\n",
    "for i in range(1,n+1):\n",
    "    # display original\n",
    "    ax = plot.subplot(2, n, i)\n",
    "    plot.imshow(x_test[i].reshape(28, 28))\n",
    "    plot.gray()\n",
    "    ax.get_xaxis().set_visible(False)\n",
    "    ax.get_yaxis().set_visible(False)\n",
    "\n",
    "    # display reconstruction\n",
    "    ax = plot.subplot(2, n, i + n)\n",
    "    plot.imshow(decoded_imgs[i].reshape(28, 28))\n",
    "    plot.gray()\n",
    "    ax.get_xaxis().set_visible(False)\n",
    "    ax.get_yaxis().set_visible(False)\n",
    "plot.show()\n"
   ]
  },
  {
   "cell_type": "markdown",
   "metadata": {
    "collapsed": true
   },
   "source": [
    "## Aprendizados com este notebook\n",
    "\n"
   ]
  },
  {
   "cell_type": "code",
   "execution_count": null,
   "metadata": {
    "collapsed": true
   },
   "outputs": [],
   "source": []
  },
  {
   "cell_type": "code",
   "execution_count": null,
   "metadata": {
    "collapsed": true
   },
   "outputs": [],
   "source": []
  }
 ],
 "metadata": {
  "anaconda-cloud": {},
  "kernelspec": {
   "display_name": "Python [Root]",
   "language": "python",
   "name": "Python [Root]"
  },
  "language_info": {
   "codemirror_mode": {
    "name": "ipython",
    "version": 2
   },
   "file_extension": ".py",
   "mimetype": "text/x-python",
   "name": "python",
   "nbconvert_exporter": "python",
   "pygments_lexer": "ipython2",
   "version": "2.7.13"
  }
 },
 "nbformat": 4,
 "nbformat_minor": 0
}
