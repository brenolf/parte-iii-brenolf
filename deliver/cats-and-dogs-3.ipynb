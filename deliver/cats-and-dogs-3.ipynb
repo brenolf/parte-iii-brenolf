{
 "cells": [
  {
   "cell_type": "markdown",
   "metadata": {},
   "source": [
    "## Cats and Dogs (3/3)\n",
    "### Building powerful image classification models using very little data\n",
    "By Francois Chollet: \n",
    "https://blog.keras.io/building-powerful-image-classification-models-using-very-little-data.html\n",
    "\n",
    "Esta é a última parte de três do experimento de *transfer learning*.\n",
    "\n",
    "Neste experimento, a rede VGG é montada completa, com a parte convolucional e a parte da rede densa treinada no notebook anterior. As camadas finais da parte convolucional é liberada para o treinamento (*fine tuning*)."
   ]
  },
  {
   "cell_type": "code",
   "execution_count": 1,
   "metadata": {
    "collapsed": true
   },
   "outputs": [],
   "source": [
    "import os\n",
    "os.environ['KERAS_BACKEND'] = 'theano'\n",
    "os.environ['THEANO_FLAGS'] = 'mode=FAST_RUN,device=gpu0,floatX=float32'\n",
    "# os.environ['THEANO_FLAGS'] = 'mode=FAST_RUN,device=cpu,floatX=float32'"
   ]
  },
  {
   "cell_type": "code",
   "execution_count": 2,
   "metadata": {
    "collapsed": false
   },
   "outputs": [
    {
     "name": "stderr",
     "output_type": "stream",
     "text": [
      "Using gpu device 0: GRID K520 (CNMeM is disabled, cuDNN 5110)\n",
      "/opt/conda/lib/python2.7/site-packages/theano/sandbox/cuda/__init__.py:600: UserWarning: Your cuDNN version is more recent than the one Theano officially supports. If you see any problems, try updating Theano or downgrading cuDNN to version 5.\n",
      "  warnings.warn(warn)\n",
      "Using Theano backend.\n"
     ]
    },
    {
     "name": "stdout",
     "output_type": "stream",
     "text": [
      "Keras  1.2.0\n",
      "Theano 0.8.2\n"
     ]
    }
   ],
   "source": [
    "%matplotlib inline\n",
    "import matplotlib.pyplot as plot\n",
    "from IPython import display\n",
    "\n",
    "import os\n",
    "import sys\n",
    "import numpy as np\n",
    "import numpy.random as nr\n",
    "\n",
    "import theano\n",
    "import keras\n",
    "from keras.preprocessing.image import ImageDataGenerator\n",
    "from keras.models import Sequential\n",
    "from keras.models import load_model\n",
    "from keras.models import Model\n",
    "from keras.layers import Convolution2D, MaxPooling2D\n",
    "from keras.layers import Activation, Dropout, Flatten, Dense\n",
    "from keras.optimizers import SGD, RMSprop\n",
    "\n",
    "print 'Keras ', keras.__version__\n",
    "print 'Theano', theano.__version__\n"
   ]
  },
  {
   "cell_type": "markdown",
   "metadata": {},
   "source": [
    "## Dataset\n",
    "\n",
    "https://www.kaggle.com/c/dogs-vs-cats/data\n"
   ]
  },
  {
   "cell_type": "code",
   "execution_count": 3,
   "metadata": {
    "collapsed": false
   },
   "outputs": [
    {
     "name": "stdout",
     "output_type": "stream",
     "text": [
      "Found 2000 images belonging to 2 classes.\n",
      "Found 800 images belonging to 2 classes.\n"
     ]
    }
   ],
   "source": [
    "train_data_dir = '/root/CatsDogs/train'\n",
    "validation_data_dir = '/root/CatsDogs/validation'\n",
    "nb_train_samples = 2000\n",
    "nb_validation_samples = 800\n",
    "\n",
    "# dimensions of our images.\n",
    "img_width, img_height = 150, 150\n",
    "\n",
    "# prepare data augmentation configuration\n",
    "train_datagen = ImageDataGenerator(\n",
    "        rescale=1./255,\n",
    "        shear_range=0.2,\n",
    "        zoom_range=0.2,\n",
    "        horizontal_flip=True)\n",
    "\n",
    "test_datagen = ImageDataGenerator(rescale=1./255)\n",
    "\n",
    "train_generator = train_datagen.flow_from_directory(\n",
    "        train_data_dir,\n",
    "        target_size=(img_height, img_width),\n",
    "        batch_size=32,\n",
    "        class_mode='binary')\n",
    "\n",
    "validation_generator = test_datagen.flow_from_directory(\n",
    "        validation_data_dir,\n",
    "        target_size=(img_height, img_width),\n",
    "        batch_size=32,\n",
    "        class_mode='binary')\n"
   ]
  },
  {
   "cell_type": "markdown",
   "metadata": {},
   "source": [
    "## VGG Features\n",
    "\n",
    "[![VGG Network Layers](https://blog.keras.io/img/imgclf/vgg16_modified.png)]()"
   ]
  },
  {
   "cell_type": "code",
   "execution_count": 4,
   "metadata": {
    "collapsed": false
   },
   "outputs": [],
   "source": [
    "\n",
    "def load_model_and_history(model_name, loss='binary_crossentropy', opt='adam', metrics=[]):\n",
    "    import h5py, json\n",
    "    import cPickle as pickle\n",
    "    from keras.models import model_from_config\n",
    "    \n",
    "    f = h5py.File(model_name + '.model', mode='r')\n",
    "    model_config = f.attrs.get('model_config')\n",
    "    model_config = json.loads(model_config.decode('utf-8'))\n",
    "\n",
    "    untrainable = []\n",
    "    for ii, lay in enumerate(model_config['config']['layers']):\n",
    "        if 'trainable' in lay['config'].keys():\n",
    "            if not lay['config']['trainable']:\n",
    "                lay['config']['trainable'] = True\n",
    "                untrainable.append(ii)\n",
    "            \n",
    "    model = model_from_config(model_config)\n",
    "    model.load_weights(model_name + '.model')\n",
    "\n",
    "    for ii in untrainable:\n",
    "        model.layers[ii].trainable = False\n",
    "\n",
    "    model.compile(loss=loss, optimizer=opt, metrics=metrics)\n",
    "    return model, pickle.load(open(model_name + '.history', 'rb'))\n"
   ]
  },
  {
   "cell_type": "code",
   "execution_count": null,
   "metadata": {
    "collapsed": false
   },
   "outputs": [
    {
     "name": "stdout",
     "output_type": "stream",
     "text": [
      "[INFO] loading model...\n",
      "____________________________________________________________________________________________________\n",
      "Layer (type)                     Output Shape          Param #     Connected to                     \n",
      "====================================================================================================\n",
      "input_1 (InputLayer)             (None, 3, 150, 150)   0                                            \n",
      "____________________________________________________________________________________________________\n",
      "block1_conv1 (Convolution2D)     (None, 64, 150, 150)  1792        input_1[0][0]                    \n",
      "____________________________________________________________________________________________________\n",
      "block1_conv2 (Convolution2D)     (None, 64, 150, 150)  36928       block1_conv1[0][0]               \n",
      "____________________________________________________________________________________________________\n",
      "block1_pool (MaxPooling2D)       (None, 64, 75, 75)    0           block1_conv2[0][0]               \n",
      "____________________________________________________________________________________________________\n",
      "block2_conv1 (Convolution2D)     (None, 128, 75, 75)   73856       block1_pool[0][0]                \n",
      "____________________________________________________________________________________________________\n",
      "block2_conv2 (Convolution2D)     (None, 128, 75, 75)   147584      block2_conv1[0][0]               \n",
      "____________________________________________________________________________________________________\n",
      "block2_pool (MaxPooling2D)       (None, 128, 37, 37)   0           block2_conv2[0][0]               \n",
      "____________________________________________________________________________________________________\n",
      "block3_conv1 (Convolution2D)     (None, 256, 37, 37)   295168      block2_pool[0][0]                \n",
      "____________________________________________________________________________________________________\n",
      "block3_conv2 (Convolution2D)     (None, 256, 37, 37)   590080      block3_conv1[0][0]               \n",
      "____________________________________________________________________________________________________\n",
      "block3_conv3 (Convolution2D)     (None, 256, 37, 37)   590080      block3_conv2[0][0]               \n",
      "____________________________________________________________________________________________________\n",
      "block3_pool (MaxPooling2D)       (None, 256, 18, 18)   0           block3_conv3[0][0]               \n",
      "____________________________________________________________________________________________________\n",
      "block4_conv1 (Convolution2D)     (None, 512, 18, 18)   1180160     block3_pool[0][0]                \n",
      "____________________________________________________________________________________________________\n",
      "block4_conv2 (Convolution2D)     (None, 512, 18, 18)   2359808     block4_conv1[0][0]               \n",
      "____________________________________________________________________________________________________\n",
      "block4_conv3 (Convolution2D)     (None, 512, 18, 18)   2359808     block4_conv2[0][0]               \n",
      "____________________________________________________________________________________________________\n",
      "block4_pool (MaxPooling2D)       (None, 512, 9, 9)     0           block4_conv3[0][0]               \n",
      "____________________________________________________________________________________________________\n",
      "block5_conv1 (Convolution2D)     (None, 512, 9, 9)     2359808     block4_pool[0][0]                \n",
      "____________________________________________________________________________________________________\n",
      "block5_conv2 (Convolution2D)     (None, 512, 9, 9)     2359808     block5_conv1[0][0]               \n",
      "____________________________________________________________________________________________________\n",
      "block5_conv3 (Convolution2D)     (None, 512, 9, 9)     2359808     block5_conv2[0][0]               \n",
      "____________________________________________________________________________________________________\n",
      "block5_pool (MaxPooling2D)       (None, 512, 4, 4)     0           block5_conv3[0][0]               \n",
      "____________________________________________________________________________________________________\n",
      "flatten_1 (Flatten)              (None, 8192)          0           block5_pool[0][0]                \n",
      "____________________________________________________________________________________________________\n",
      "d1 (Dense)                       (None, 256)           2097408     flatten_1[0][0]                  \n",
      "____________________________________________________________________________________________________\n",
      "dropout_1 (Dropout)              (None, 256)           0           d1[0][0]                         \n",
      "____________________________________________________________________________________________________\n",
      "d2 (Dense)                       (None, 1)             257         dropout_1[0][0]                  \n",
      "====================================================================================================\n",
      "Total params: 16,812,353\n",
      "Trainable params: 9,177,089\n",
      "Non-trainable params: 7,635,264\n",
      "____________________________________________________________________________________________________\n"
     ]
    }
   ],
   "source": [
    "os.sys.path.append('../src/')\n",
    "from keras.applications.vgg16 import VGG16\n",
    "from my_keras_utilities import TrainingPlotter\n",
    "\n",
    "model_name = '../../models/cats_dogs_vgg_finetune'\n",
    "top_model_name = '../../models/cats_dogs_vgg.model'\n",
    "\n",
    "if not os.path.isfile(model_name + '.model'):\n",
    "    # History, checkpoint, earlystop, loss plotter:\n",
    "    histo = TrainingPlotter(n=1, filepath=model_name, patience=15)\n",
    "    \n",
    "    print(\"[INFO] creating model...\")\n",
    "    vgg = VGG16(include_top=False, weights='imagenet', input_shape=(3, img_height, img_width))\n",
    "    \n",
    "    # build a classifier model and put on top of the convolutional model\n",
    "    x = Flatten()(vgg.output)\n",
    "    x = Dense(256, activation='relu', name='d1')(x)\n",
    "    x = Dropout(0.5)(x)\n",
    "    x = Dense(1, activation='sigmoid', name='d2')(x)\n",
    "    \n",
    "    model = Model(input=vgg.input, output=x)\n",
    "\n",
    "    print 'Model layers:'\n",
    "    for i, layer in enumerate(model.layers):\n",
    "        print '    {:2d} {:15s} {}'.format(i, layer.name, layer)\n",
    "    \n",
    "    w1, b1, w2, b2 = load_model(top_model_name).get_weights()\n",
    "    model.layers[20].set_weights([w1, b1])\n",
    "    model.layers[22].set_weights([w2, b2])\n",
    "    \n",
    "    # set the first 15 layers (up to the last conv block)\n",
    "    # to non-trainable (weights will not be updated)\n",
    "    for layer in model.layers[:15]:\n",
    "        layer.trainable = False\n",
    "\n",
    "    print(\"[INFO] compiling model...\")\n",
    "    # compile the model with a SGD/momentum optimizer\n",
    "    # and a very slow learning rate.\n",
    "    model.compile(loss='binary_crossentropy',\n",
    "                  optimizer=SGD(lr=1e-4, momentum=0.9),\n",
    "                  metrics=['accuracy'])\n",
    "else:\n",
    "    print(\"[INFO] loading model...\")\n",
    "    model, histo = load_model_and_history(model_name, \n",
    "                                          loss='binary_crossentropy', \n",
    "                                          opt=SGD(lr=1e-4, momentum=0.9), \n",
    "                                          metrics=['accuracy'])\n",
    "\n",
    "model.summary()\n"
   ]
  },
  {
   "cell_type": "code",
   "execution_count": null,
   "metadata": {
    "collapsed": false
   },
   "outputs": [
    {
     "data": {
      "image/png": "[encoded data removed]",
      "text/plain": [
       "<matplotlib.figure.Figure at 0x7f511406df10>"
      ]
     },
     "metadata": {},
     "output_type": "display_data"
    }
   ],
   "source": [
    "nb_epoch = 50\n",
    "ploss = 1.0\n",
    "\n",
    "nepochs = nb_epoch - histo.get_nepochs()\n",
    "\n",
    "fig = plot.figure(figsize=(15,6))\n",
    "plot.ylim(0.0, ploss)\n",
    "plot.xlim(0, nb_epoch)\n",
    "plot.grid(True)\n",
    "\n",
    "if nepochs > 0:\n",
    "    print(\"[INFO] training...\")\n",
    "    try:\n",
    "        # fine-tune the model\n",
    "        model.fit_generator(\n",
    "            train_generator,\n",
    "            samples_per_epoch=nb_train_samples,\n",
    "            nb_epoch=nb_epoch,\n",
    "            validation_data=validation_generator,\n",
    "            nb_val_samples=nb_validation_samples,\n",
    "            verbose=0,\n",
    "            callbacks=[histo],\n",
    "        )\n",
    "        \n",
    "    except KeyboardInterrupt:\n",
    "        pass\n",
    "\n",
    "else:\n",
    "    print(\"[INFO] plotting...\")\n",
    "    # plot history\n"
   ]
  },
  {
   "cell_type": "code",
   "execution_count": null,
   "metadata": {
    "collapsed": false
   },
   "outputs": [],
   "source": [
    "print(\"[INFO] loading model...\")\n",
    "model, histo = load_model_and_history(model_name, loss='binary_crossentropy', \n",
    "                                      opt=SGD(lr=1e-4, momentum=0.9), metrics=['accuracy'])\n",
    "print(\"[INFO] evaluating...\")\n",
    "loss, accuracy = model.evaluate_generator(validation_generator, nb_validation_samples)\n",
    "print(\"[INFO] accuracy: {:.2f}%\".format(accuracy * 100))\n"
   ]
  },
  {
   "cell_type": "markdown",
   "metadata": {
    "collapsed": false
   },
   "source": [
    "## Aprendizados com este notebook\n",
    "\n"
   ]
  }
 ],
 "metadata": {
  "anaconda-cloud": {},
  "kernelspec": {
   "display_name": "Python [Root]",
   "language": "python",
   "name": "Python [Root]"
  },
  "language_info": {
   "codemirror_mode": {
    "name": "ipython",
    "version": 2
   },
   "file_extension": ".py",
   "mimetype": "text/x-python",
   "name": "python",
   "nbconvert_exporter": "python",
   "pygments_lexer": "ipython2",
   "version": "2.7.13"
  }
 },
 "nbformat": 4,
 "nbformat_minor": 0
}
